{
 "cells": [
  {
   "cell_type": "markdown",
   "metadata": {},
   "source": [
    "# M.Ahtisham 19B-045-SE"
   ]
  },
  {
   "cell_type": "markdown",
   "metadata": {},
   "source": [
    "# 2.1 Expressions, Variables and Assignments "
   ]
  },
  {
   "cell_type": "code",
   "execution_count": 5,
   "metadata": {},
   "outputs": [
    {
     "name": "stdout",
     "output_type": "stream",
     "text": [
      "10\n",
      "6\n",
      "2.5\n",
      "2.0\n"
     ]
    }
   ],
   "source": [
    "#1\n",
    "print(3+7)\n",
    "print(3*2)\n",
    "print(5/2)\n",
    "print(4/2)\n"
   ]
  },
  {
   "cell_type": "code",
   "execution_count": 7,
   "metadata": {},
   "outputs": [
    {
     "name": "stdout",
     "output_type": "stream",
     "text": [
      "7\n",
      "12\n",
      "11.440333333333333\n",
      "0.25546153846153846\n"
     ]
    }
   ],
   "source": [
    "#2\n",
    "print(2*3+1)\n",
    "print((3+1)*3)\n",
    "print(4.321/3+10)\n",
    "print(3.321/(3+10))"
   ]
  },
  {
   "cell_type": "code",
   "execution_count": 8,
   "metadata": {},
   "outputs": [
    {
     "name": "stdout",
     "output_type": "stream",
     "text": [
      "8\n",
      "16\n",
      "4\n",
      "2\n"
     ]
    }
   ],
   "source": [
    "#3\n",
    "print(2**3)\n",
    "print(2**4)\n",
    "print(14 // 3)\n",
    "print(14 % 3)\n"
   ]
  },
  {
   "cell_type": "code",
   "execution_count": 10,
   "metadata": {},
   "outputs": [
    {
     "name": "stdout",
     "output_type": "stream",
     "text": [
      "4\n",
      "4\n",
      "3.2\n",
      "-2\n",
      "6\n",
      "-4\n",
      "36.5\n"
     ]
    }
   ],
   "source": [
    "#4\n",
    "print(abs(-4))\n",
    "print(abs(4))\n",
    "print(abs(-3.2))\n",
    "print(min(6,-2))\n",
    "print(max(6,-2))\n",
    "print(min(2,-4,6,-2))\n",
    "print(max(12,36.5,3.5))"
   ]
  },
  {
   "cell_type": "code",
   "execution_count": 11,
   "metadata": {},
   "outputs": [
    {
     "name": "stdout",
     "output_type": "stream",
     "text": [
      "(a) 15\n",
      "(b) 24.333333333333332\n",
      "(c) 5\n",
      "(d) 38\n",
      "(e) 1024\n",
      "(f) 3\n",
      "(g) 29.95\n"
     ]
    }
   ],
   "source": [
    "#exercise no 2.1\n",
    "#part (a)\n",
    "print(\"(a)\",1+2+3+4+5)\n",
    "#part (b)\n",
    "print(\"(b)\",(23+19+31)/3)\n",
    "#part (c)\n",
    "print(\"(c)\",403//73)\n",
    "#part (d)\n",
    "print(\"(d)\",403%73)\n",
    "#part (e)\n",
    "print(\"(e)\",2**10)\n",
    "#part (f)\n",
    "print(\"(f)\",abs(54-57))\n",
    "#part (g)\n",
    "print(\"(g)\",min(34.99,29.95,31.50))"
   ]
  },
  {
   "cell_type": "markdown",
   "metadata": {},
   "source": [
    "# Boolean Expressions and Operators"
   ]
  },
  {
   "cell_type": "code",
   "execution_count": 13,
   "metadata": {},
   "outputs": [
    {
     "name": "stdout",
     "output_type": "stream",
     "text": [
      "True\n",
      "False\n",
      "True\n",
      "True\n",
      "True\n",
      "False\n",
      "True\n",
      "False\n",
      "True\n"
     ]
    }
   ],
   "source": [
    "#1\n",
    "print(2<3)\n",
    "print(3<2)\n",
    "print(5-1 > 2+1)\n",
    "print(3 == 3)\n",
    "print(3+5 == 4+4)\n",
    "print(3 == 5 - 3)\n",
    "print(3 <= 4)\n",
    "print(3 >= 4)\n",
    "print(3 != 4)"
   ]
  },
  {
   "cell_type": "code",
   "execution_count": 14,
   "metadata": {},
   "outputs": [
    {
     "name": "stdout",
     "output_type": "stream",
     "text": [
      "(a) False\n",
      "(b) True\n",
      "(c) True\n",
      "(d) False\n",
      "(e) True\n",
      "(f) False\n",
      "(g) True\n"
     ]
    }
   ],
   "source": [
    "#exercise no 2.2\n",
    "#part (a)\n",
    "print(\"(a)\",2+2<4)\n",
    "#part (b)\n",
    "print(\"(b)\",7//3==1+1)\n",
    "#part (c)\n",
    "print(\"(c)\",3**2+4**2==25)\n",
    "#part (d)\n",
    "print(\"(d)\",2+4+6>12)\n",
    "#part (e)\n",
    "print(\"(e)\",1387%19==0)\n",
    "#part (f)\n",
    "print(\"(f)\",31%2==0)\n",
    "#part (g)\n",
    "print(\"(g)\",min(34.99,29.95,31.50)<30.00)"
   ]
  },
  {
   "cell_type": "code",
   "execution_count": 17,
   "metadata": {},
   "outputs": [
    {
     "name": "stdout",
     "output_type": "stream",
     "text": [
      "False\n",
      "True\n",
      "True\n",
      "False\n",
      "False\n"
     ]
    }
   ],
   "source": [
    "print(2<3 and 4>5)\n",
    "print(2<3 and True)\n",
    "print(3<4 or 4<3)\n",
    "print(3<2 or 2<1)\n",
    "print(not(3<4))"
   ]
  },
  {
   "cell_type": "markdown",
   "metadata": {},
   "source": [
    "# Variables and Assignments"
   ]
  },
  {
   "cell_type": "code",
   "execution_count": 20,
   "metadata": {},
   "outputs": [
    {
     "name": "stdout",
     "output_type": "stream",
     "text": [
      "4\n",
      "16\n",
      "16\n"
     ]
    },
    {
     "ename": "NameError",
     "evalue": "name 'z' is not defined",
     "output_type": "error",
     "traceback": [
      "\u001b[1;31m---------------------------------------------------------------------------\u001b[0m",
      "\u001b[1;31mNameError\u001b[0m                                 Traceback (most recent call last)",
      "\u001b[1;32m<ipython-input-20-e429c3ebbca4>\u001b[0m in \u001b[0;36m<module>\u001b[1;34m\u001b[0m\n\u001b[0;32m      5\u001b[0m \u001b[0mcounter\u001b[0m \u001b[1;33m=\u001b[0m \u001b[1;36m4\u001b[0m\u001b[1;33m*\u001b[0m\u001b[0mx\u001b[0m\u001b[1;33m\u001b[0m\u001b[1;33m\u001b[0m\u001b[0m\n\u001b[0;32m      6\u001b[0m \u001b[0mprint\u001b[0m\u001b[1;33m(\u001b[0m\u001b[0mcounter\u001b[0m\u001b[1;33m)\u001b[0m\u001b[1;33m\u001b[0m\u001b[1;33m\u001b[0m\u001b[0m\n\u001b[1;32m----> 7\u001b[1;33m \u001b[0mprint\u001b[0m\u001b[1;33m(\u001b[0m\u001b[0mz\u001b[0m\u001b[1;33m)\u001b[0m\u001b[1;33m\u001b[0m\u001b[1;33m\u001b[0m\u001b[0m\n\u001b[0m",
      "\u001b[1;31mNameError\u001b[0m: name 'z' is not defined"
     ]
    }
   ],
   "source": [
    "#1\n",
    "x = 4\n",
    "print(x)\n",
    "print(4*x)\n",
    "counter = 4*x\n",
    "print(counter)\n",
    "print(z)"
   ]
  },
  {
   "cell_type": "code",
   "execution_count": null,
   "metadata": {},
   "outputs": [],
   "source": [
    "#exercise no 2.3\n",
    "a = 3\n",
    "b =4 \n",
    "c = (a*a)+(b*b)\n",
    "print(\"Answer:\",c)"
   ]
  },
  {
   "cell_type": "markdown",
   "metadata": {},
   "source": [
    "# 2.2 Strings "
   ]
  },
  {
   "cell_type": "markdown",
   "metadata": {},
   "source": [
    "# String Operators"
   ]
  },
  {
   "cell_type": "code",
   "execution_count": 24,
   "metadata": {},
   "outputs": [
    {
     "name": "stdout",
     "output_type": "stream",
     "text": [
      "Hello, World!\n",
      "hello\n",
      "True\n",
      "True\n",
      "False\n",
      "True\n",
      "False\n",
      "helloworld\n",
      "helloworld\n"
     ]
    },
    {
     "ename": "TypeError",
     "evalue": "can't multiply sequence by non-int of type 'str'",
     "output_type": "error",
     "traceback": [
      "\u001b[1;31m---------------------------------------------------------------------------\u001b[0m",
      "\u001b[1;31mTypeError\u001b[0m                                 Traceback (most recent call last)",
      "\u001b[1;32m<ipython-input-24-91f28c79bdcc>\u001b[0m in \u001b[0;36m<module>\u001b[1;34m\u001b[0m\n\u001b[0;32m     10\u001b[0m \u001b[0mprint\u001b[0m\u001b[1;33m(\u001b[0m\u001b[0ms\u001b[0m\u001b[1;33m+\u001b[0m\u001b[0mt\u001b[0m\u001b[1;33m)\u001b[0m\u001b[1;33m\u001b[0m\u001b[1;33m\u001b[0m\u001b[0m\n\u001b[0;32m     11\u001b[0m \u001b[0mprint\u001b[0m\u001b[1;33m(\u001b[0m\u001b[0ms\u001b[0m \u001b[1;33m+\u001b[0m \u001b[1;34m''\u001b[0m\u001b[1;33m+\u001b[0m \u001b[0mt\u001b[0m\u001b[1;33m)\u001b[0m\u001b[1;33m\u001b[0m\u001b[1;33m\u001b[0m\u001b[0m\n\u001b[1;32m---> 12\u001b[1;33m \u001b[0mprint\u001b[0m\u001b[1;33m(\u001b[0m\u001b[1;34m'hello'\u001b[0m\u001b[1;33m*\u001b[0m\u001b[1;34m'world'\u001b[0m\u001b[1;33m)\u001b[0m\u001b[1;33m\u001b[0m\u001b[1;33m\u001b[0m\u001b[0m\n\u001b[0m",
      "\u001b[1;31mTypeError\u001b[0m: can't multiply sequence by non-int of type 'str'"
     ]
    }
   ],
   "source": [
    "print('Hello, World!')\n",
    "s = 'hello'\n",
    "print(s)\n",
    "print(s == 'hello')\n",
    "t = 'world'\n",
    "print(s != t)\n",
    "print(s == t)\n",
    "print(s<t)\n",
    "print(s>t)\n",
    "print(s+t)\n",
    "print(s + ''+ t)\n",
    "print('hello'*'world')"
   ]
  },
  {
   "cell_type": "code",
   "execution_count": 30,
   "metadata": {},
   "outputs": [
    {
     "name": "stdout",
     "output_type": "stream",
     "text": [
      "AAA\n",
      "hello hello \n",
      "------------------------------\n",
      "True\n",
      "False\n",
      "False\n",
      "5\n"
     ]
    }
   ],
   "source": [
    "print(3*'A')\n",
    "print('hello ' * 2)\n",
    "print(30* '-' )\n",
    "s = 'hello'\n",
    "print('h' in s)\n",
    "print('g' in s)\n",
    "print('11' in s)\n",
    "print(len(s))"
   ]
  },
  {
   "cell_type": "code",
   "execution_count": 31,
   "metadata": {},
   "outputs": [
    {
     "name": "stdout",
     "output_type": "stream",
     "text": [
      "(a) cat dog bat\n",
      "(b) cat cat cat cat cat cat cat cat cat cat \n",
      "(c) cat dog dog bat bat bat\n",
      "(d) cat dog cat dog cat dog cat dog cat dog cat dog cat dog \n",
      "(e) dogdogbat dogdogbat dogdogbat \n"
     ]
    }
   ],
   "source": [
    "#exercise no 2.4\n",
    "s1 = \"cat\"\n",
    "s2 = \"dog\"\n",
    "s3 = \"bat\"\n",
    "#part (a)\n",
    "print(\"(a)\",s1 + \" \" + s2 + \" \" + s3)\n",
    "#part (b)\n",
    "print(\"(b)\",10*(s1+\" \"))\n",
    "#part(c)\n",
    "print(\"(c)\",s1+\" \"+2*(s2+\" \")+2*(s3+\" \")+s3)\n",
    "#part (d)\n",
    "print(\"(d)\",7*(s1+\" \"+s2+\" \"))\n",
    "#part (e)\n",
    "print(\"(e)\",3*(2*s2+s3+\" \"))"
   ]
  },
  {
   "cell_type": "markdown",
   "metadata": {},
   "source": [
    "# Indexing Operator"
   ]
  },
  {
   "cell_type": "code",
   "execution_count": 33,
   "metadata": {},
   "outputs": [
    {
     "name": "stdout",
     "output_type": "stream",
     "text": [
      "h\n",
      "e\n",
      "o\n"
     ]
    }
   ],
   "source": [
    "print(s[0])\n",
    "print(s[1])\n",
    "print(s[4])"
   ]
  },
  {
   "cell_type": "code",
   "execution_count": 36,
   "metadata": {},
   "outputs": [
    {
     "name": "stdout",
     "output_type": "stream",
     "text": [
      "0\n",
      "1\n",
      "6\n",
      "8\n",
      "9\n"
     ]
    }
   ],
   "source": [
    "#exercise no 2.5\n",
    "s= \"0123456789\"\n",
    "print(s[0])\n",
    "print(s[1])\n",
    "print(s[6])\n",
    "print(s[8])\n",
    "print(s[9])"
   ]
  },
  {
   "cell_type": "code",
   "execution_count": 40,
   "metadata": {
    "scrolled": false
   },
   "outputs": [
    {
     "name": "stdout",
     "output_type": "stream",
     "text": [
      "o\n",
      "l\n"
     ]
    }
   ],
   "source": [
    "s = 'hello'\n",
    "print(s[-1])\n",
    "print(s[-2])"
   ]
  },
  {
   "cell_type": "markdown",
   "metadata": {},
   "source": [
    "# 2.3 Lists and Tuples"
   ]
  },
  {
   "cell_type": "markdown",
   "metadata": {},
   "source": [
    "# List Operators"
   ]
  },
  {
   "cell_type": "code",
   "execution_count": 42,
   "metadata": {},
   "outputs": [
    {
     "name": "stdout",
     "output_type": "stream",
     "text": [
      "['goldfish', 'cat', 'dog']\n",
      "goldfish\n",
      "dog\n",
      "dog\n",
      "3\n",
      "['goldfish', 'cat', 'dog', 'goldfish', 'cat', 'dog']\n",
      "['goldfish', 'cat', 'dog', 'goldfish', 'cat', 'dog']\n",
      "False\n",
      "True\n"
     ]
    }
   ],
   "source": [
    "pets = ['goldfish', 'cat', 'dog']\n",
    "print(pets)\n",
    "things = ['one', 2, [3, 4]]\n",
    "print(pets[0])\n",
    "print(pets[2])\n",
    "print(pets[-1])\n",
    "print(len(pets))\n",
    "print(pets + pets)\n",
    "print(pets * 2)\n",
    "print('rabbit' in pets)\n",
    "print('dog' in pets)"
   ]
  },
  {
   "cell_type": "code",
   "execution_count": 43,
   "metadata": {},
   "outputs": [
    {
     "name": "stdout",
     "output_type": "stream",
     "text": [
      "19.99\n",
      "120.99\n",
      "199.46999999999997\n"
     ]
    }
   ],
   "source": [
    "lst = [23.99, 19.99, 34.50, 120.99]\n",
    "print(min(lst))\n",
    "print(max(lst))\n",
    "print(sum(lst))"
   ]
  },
  {
   "cell_type": "code",
   "execution_count": 44,
   "metadata": {},
   "outputs": [
    {
     "name": "stdout",
     "output_type": "stream",
     "text": [
      "min: badminton\n",
      "max: bat\n"
     ]
    }
   ],
   "source": [
    "#exercise no 2.6\n",
    "words = ['bat', 'ball', 'barn', 'basket', 'badminton']\n",
    "print(\"min:\",min(words))\n",
    "print(\"max:\",max(words))"
   ]
  },
  {
   "cell_type": "markdown",
   "metadata": {},
   "source": [
    "# Lists Are Mutable, Strings Are Not"
   ]
  },
  {
   "cell_type": "code",
   "execution_count": 46,
   "metadata": {},
   "outputs": [
    {
     "name": "stdout",
     "output_type": "stream",
     "text": [
      "['goldfish', 'cymric cat', 'dog']\n"
     ]
    },
    {
     "ename": "TypeError",
     "evalue": "'str' object does not support item assignment",
     "output_type": "error",
     "traceback": [
      "\u001b[1;31m---------------------------------------------------------------------------\u001b[0m",
      "\u001b[1;31mTypeError\u001b[0m                                 Traceback (most recent call last)",
      "\u001b[1;32m<ipython-input-46-0f880e36d00f>\u001b[0m in \u001b[0;36m<module>\u001b[1;34m\u001b[0m\n\u001b[0;32m      2\u001b[0m \u001b[0mprint\u001b[0m\u001b[1;33m(\u001b[0m\u001b[0mpets\u001b[0m\u001b[1;33m)\u001b[0m\u001b[1;33m\u001b[0m\u001b[1;33m\u001b[0m\u001b[0m\n\u001b[0;32m      3\u001b[0m \u001b[0mmyCat\u001b[0m \u001b[1;33m=\u001b[0m \u001b[1;34m'cymric bat'\u001b[0m\u001b[1;33m\u001b[0m\u001b[1;33m\u001b[0m\u001b[0m\n\u001b[1;32m----> 4\u001b[1;33m \u001b[0mmyCat\u001b[0m\u001b[1;33m[\u001b[0m\u001b[1;36m7\u001b[0m\u001b[1;33m]\u001b[0m \u001b[1;33m=\u001b[0m \u001b[1;34m'c'\u001b[0m\u001b[1;33m\u001b[0m\u001b[1;33m\u001b[0m\u001b[0m\n\u001b[0m",
      "\u001b[1;31mTypeError\u001b[0m: 'str' object does not support item assignment"
     ]
    }
   ],
   "source": [
    "pets[1]= 'cymric cat'\n",
    "print(pets)\n",
    "myCat = 'cymric bat'\n",
    "myCat[7] = 'c'"
   ]
  },
  {
   "cell_type": "code",
   "execution_count": 47,
   "metadata": {},
   "outputs": [
    {
     "name": "stdout",
     "output_type": "stream",
     "text": [
      "cymric cat\n"
     ]
    }
   ],
   "source": [
    "myCat = 'cymric cat'\n",
    "print(myCat)"
   ]
  },
  {
   "cell_type": "markdown",
   "metadata": {},
   "source": [
    "# Tuples or “ImmutableLists”"
   ]
  },
  {
   "cell_type": "code",
   "execution_count": 54,
   "metadata": {},
   "outputs": [
    {
     "data": {
      "text/plain": [
       "('Mon', 'Tu', 'We')"
      ]
     },
     "execution_count": 54,
     "metadata": {},
     "output_type": "execute_result"
    }
   ],
   "source": [
    "days = ('Mon', 'Tu', 'We')"
   ]
  },
  {
   "cell_type": "code",
   "execution_count": 55,
   "metadata": {},
   "outputs": [
    {
     "data": {
      "text/plain": [
       "('Mon', 'Tu', 'Wed', 'Th')"
      ]
     },
     "execution_count": 55,
     "metadata": {},
     "output_type": "execute_result"
    }
   ],
   "source": [
    "days = 'Mon', 'Tu', 'Wed', 'Th'\n",
    "days"
   ]
  },
  {
   "cell_type": "code",
   "execution_count": 57,
   "metadata": {},
   "outputs": [
    {
     "data": {
      "text/plain": [
       "False"
      ]
     },
     "execution_count": 57,
     "metadata": {},
     "output_type": "execute_result"
    }
   ],
   "source": [
    "'Fr' in days"
   ]
  },
  {
   "cell_type": "code",
   "execution_count": 58,
   "metadata": {},
   "outputs": [
    {
     "data": {
      "text/plain": [
       "('Mon', 'Tu', 'Wed', 'Th', 'Fr', 'Sa', 'Su')"
      ]
     },
     "execution_count": 58,
     "metadata": {},
     "output_type": "execute_result"
    }
   ],
   "source": [
    "week = days + ('Fr', 'Sa', 'Su')\n",
    "week"
   ]
  },
  {
   "cell_type": "code",
   "execution_count": 59,
   "metadata": {},
   "outputs": [
    {
     "data": {
      "text/plain": [
       "7"
      ]
     },
     "execution_count": 59,
     "metadata": {},
     "output_type": "execute_result"
    }
   ],
   "source": [
    "len(week)"
   ]
  },
  {
   "cell_type": "code",
   "execution_count": 61,
   "metadata": {},
   "outputs": [
    {
     "data": {
      "text/plain": [
       "('Mon',\n",
       " 'Tu',\n",
       " 'Wed',\n",
       " 'Th',\n",
       " 'Fr',\n",
       " 'Sa',\n",
       " 'Su',\n",
       " 'Mon',\n",
       " 'Tu',\n",
       " 'Wed',\n",
       " 'Th',\n",
       " 'Fr',\n",
       " 'Sa',\n",
       " 'Su')"
      ]
     },
     "execution_count": 61,
     "metadata": {},
     "output_type": "execute_result"
    }
   ],
   "source": [
    "2*week"
   ]
  },
  {
   "cell_type": "code",
   "execution_count": 62,
   "metadata": {},
   "outputs": [
    {
     "data": {
      "text/plain": [
       "'Wed'"
      ]
     },
     "execution_count": 62,
     "metadata": {},
     "output_type": "execute_result"
    }
   ],
   "source": [
    "days[2]"
   ]
  },
  {
   "cell_type": "code",
   "execution_count": 63,
   "metadata": {},
   "outputs": [
    {
     "ename": "TypeError",
     "evalue": "'tuple' object does not support item assignment",
     "output_type": "error",
     "traceback": [
      "\u001b[1;31m---------------------------------------------------------------------------\u001b[0m",
      "\u001b[1;31mTypeError\u001b[0m                                 Traceback (most recent call last)",
      "\u001b[1;32m<ipython-input-63-4d5663bcf41e>\u001b[0m in \u001b[0;36m<module>\u001b[1;34m\u001b[0m\n\u001b[1;32m----> 1\u001b[1;33m \u001b[0mdays\u001b[0m\u001b[1;33m[\u001b[0m\u001b[1;36m4\u001b[0m\u001b[1;33m]\u001b[0m \u001b[1;33m=\u001b[0m \u001b[1;34m'th'\u001b[0m\u001b[1;33m\u001b[0m\u001b[1;33m\u001b[0m\u001b[0m\n\u001b[0m",
      "\u001b[1;31mTypeError\u001b[0m: 'tuple' object does not support item assignment"
     ]
    }
   ],
   "source": [
    "days[4] = 'th' "
   ]
  },
  {
   "cell_type": "markdown",
   "metadata": {},
   "source": [
    "# List and Tuple Methods"
   ]
  },
  {
   "cell_type": "code",
   "execution_count": 72,
   "metadata": {},
   "outputs": [
    {
     "name": "stdout",
     "output_type": "stream",
     "text": [
      "4\n",
      "['goldfish', 'cymric cat', 'dog', 'guinea pig']\n",
      "['goldfish', 'cymric cat', 'dog', 'guinea pig', 'dog']\n",
      "2\n",
      "['goldfish', 'cymric cat', 'guinea pig', 'dog']\n",
      "['dog', 'guinea pig', 'cymric cat', 'goldfish']\n",
      "['cymric cat', 'dog', 'goldfish', 'guinea pig']\n"
     ]
    }
   ],
   "source": [
    "number = [6, 9, 4, 22]\n",
    "print(min(number))\n",
    "pets = ['goldfish', 'cymric cat', 'dog']\n",
    "pets.append('guinea pig')\n",
    "print(pets)\n",
    "pets.append('dog')\n",
    "print(pets)\n",
    "print(pets.count('dog'))\n",
    "pets.remove('dog')\n",
    "print(pets)\n",
    "pets.reverse()\n",
    "print(pets)\n",
    "pets.sort()\n",
    "print(pets)"
   ]
  },
  {
   "cell_type": "code",
   "execution_count": 75,
   "metadata": {},
   "outputs": [
    {
     "name": "stdout",
     "output_type": "stream",
     "text": [
      "Help on class list in module builtins:\n",
      "\n",
      "class list(object)\n",
      " |  list(iterable=(), /)\n",
      " |  \n",
      " |  Built-in mutable sequence.\n",
      " |  \n",
      " |  If no argument is given, the constructor creates a new empty list.\n",
      " |  The argument must be an iterable if specified.\n",
      " |  \n",
      " |  Methods defined here:\n",
      " |  \n",
      " |  __add__(self, value, /)\n",
      " |      Return self+value.\n",
      " |  \n",
      " |  __contains__(self, key, /)\n",
      " |      Return key in self.\n",
      " |  \n",
      " |  __delitem__(self, key, /)\n",
      " |      Delete self[key].\n",
      " |  \n",
      " |  __eq__(self, value, /)\n",
      " |      Return self==value.\n",
      " |  \n",
      " |  __ge__(self, value, /)\n",
      " |      Return self>=value.\n",
      " |  \n",
      " |  __getattribute__(self, name, /)\n",
      " |      Return getattr(self, name).\n",
      " |  \n",
      " |  __getitem__(...)\n",
      " |      x.__getitem__(y) <==> x[y]\n",
      " |  \n",
      " |  __gt__(self, value, /)\n",
      " |      Return self>value.\n",
      " |  \n",
      " |  __iadd__(self, value, /)\n",
      " |      Implement self+=value.\n",
      " |  \n",
      " |  __imul__(self, value, /)\n",
      " |      Implement self*=value.\n",
      " |  \n",
      " |  __init__(self, /, *args, **kwargs)\n",
      " |      Initialize self.  See help(type(self)) for accurate signature.\n",
      " |  \n",
      " |  __iter__(self, /)\n",
      " |      Implement iter(self).\n",
      " |  \n",
      " |  __le__(self, value, /)\n",
      " |      Return self<=value.\n",
      " |  \n",
      " |  __len__(self, /)\n",
      " |      Return len(self).\n",
      " |  \n",
      " |  __lt__(self, value, /)\n",
      " |      Return self<value.\n",
      " |  \n",
      " |  __mul__(self, value, /)\n",
      " |      Return self*value.\n",
      " |  \n",
      " |  __ne__(self, value, /)\n",
      " |      Return self!=value.\n",
      " |  \n",
      " |  __repr__(self, /)\n",
      " |      Return repr(self).\n",
      " |  \n",
      " |  __reversed__(self, /)\n",
      " |      Return a reverse iterator over the list.\n",
      " |  \n",
      " |  __rmul__(self, value, /)\n",
      " |      Return value*self.\n",
      " |  \n",
      " |  __setitem__(self, key, value, /)\n",
      " |      Set self[key] to value.\n",
      " |  \n",
      " |  __sizeof__(self, /)\n",
      " |      Return the size of the list in memory, in bytes.\n",
      " |  \n",
      " |  append(self, object, /)\n",
      " |      Append object to the end of the list.\n",
      " |  \n",
      " |  clear(self, /)\n",
      " |      Remove all items from list.\n",
      " |  \n",
      " |  copy(self, /)\n",
      " |      Return a shallow copy of the list.\n",
      " |  \n",
      " |  count(self, value, /)\n",
      " |      Return number of occurrences of value.\n",
      " |  \n",
      " |  extend(self, iterable, /)\n",
      " |      Extend list by appending elements from the iterable.\n",
      " |  \n",
      " |  index(self, value, start=0, stop=9223372036854775807, /)\n",
      " |      Return first index of value.\n",
      " |      \n",
      " |      Raises ValueError if the value is not present.\n",
      " |  \n",
      " |  insert(self, index, object, /)\n",
      " |      Insert object before index.\n",
      " |  \n",
      " |  pop(self, index=-1, /)\n",
      " |      Remove and return item at index (default last).\n",
      " |      \n",
      " |      Raises IndexError if list is empty or index is out of range.\n",
      " |  \n",
      " |  remove(self, value, /)\n",
      " |      Remove first occurrence of value.\n",
      " |      \n",
      " |      Raises ValueError if the value is not present.\n",
      " |  \n",
      " |  reverse(self, /)\n",
      " |      Reverse *IN PLACE*.\n",
      " |  \n",
      " |  sort(self, /, *, key=None, reverse=False)\n",
      " |      Stable sort *IN PLACE*.\n",
      " |  \n",
      " |  ----------------------------------------------------------------------\n",
      " |  Static methods defined here:\n",
      " |  \n",
      " |  __new__(*args, **kwargs) from builtins.type\n",
      " |      Create and return a new object.  See help(type) for accurate signature.\n",
      " |  \n",
      " |  ----------------------------------------------------------------------\n",
      " |  Data and other attributes defined here:\n",
      " |  \n",
      " |  __hash__ = None\n",
      "\n"
     ]
    }
   ],
   "source": [
    "help(list)"
   ]
  },
  {
   "cell_type": "code",
   "execution_count": 76,
   "metadata": {},
   "outputs": [
    {
     "name": "stdout",
     "output_type": "stream",
     "text": [
      "[2, 4, 5, 8]\n"
     ]
    }
   ],
   "source": [
    "lst = [4, 2, 8, 5]\n",
    "lst.sort()\n",
    "print(lst)"
   ]
  },
  {
   "cell_type": "code",
   "execution_count": 77,
   "metadata": {},
   "outputs": [
    {
     "name": "stdout",
     "output_type": "stream",
     "text": [
      "(a) 2\n",
      "(b) [9, 7, 7, 10, 3, 9, 6, 6, 4]\n",
      "(c) 10\n",
      "(d) [3, 4, 6, 6, 7, 7, 9, 9, 10]\n",
      "(e) 6.777777777777778\n"
     ]
    }
   ],
   "source": [
    "#exercise no 2.7\n",
    "grades= [9, 7, 7, 10, 3, 9, 6, 6, 2]\n",
    "print(\"(a)\",grades.count(7))\n",
    "grades[-1]= 4\n",
    "print(\"(b)\",grades)    \n",
    "print(\"(c)\",max(grades))\n",
    "grades.sort()\n",
    "print(\"(d)\",grades)\n",
    "average = sum(grades)/len(grades)\n",
    "print(\"(e)\",average)"
   ]
  },
  {
   "cell_type": "markdown",
   "metadata": {},
   "source": [
    "# 2.4 Objects and Classes"
   ]
  },
  {
   "cell_type": "markdown",
   "metadata": {},
   "source": [
    "# Object Type"
   ]
  },
  {
   "cell_type": "code",
   "execution_count": 78,
   "metadata": {},
   "outputs": [
    {
     "name": "stdout",
     "output_type": "stream",
     "text": [
      "<class 'int'>\n",
      "<class 'float'>\n",
      "<class 'str'>\n",
      "<class 'list'>\n",
      "<class 'int'>\n"
     ]
    }
   ],
   "source": [
    "print(type(3))\n",
    "print(type(3.0))\n",
    "print(type('Hello World'))\n",
    "print(type([1, 2, 3, 5, 8]))\n",
    "a = 3\n",
    "print(type(a))\n"
   ]
  },
  {
   "cell_type": "markdown",
   "metadata": {},
   "source": [
    "# Valid Values for Number Types"
   ]
  },
  {
   "cell_type": "code",
   "execution_count": 82,
   "metadata": {},
   "outputs": [
    {
     "name": "stdout",
     "output_type": "stream",
     "text": [
      "179769313486231590772930519078902473361797697894230657273430081157732675805500963132708477322407536021120113879871393357658789768814416622492847430639474124377767893424865485276302219601246094119453082952085005768838150682342462881473913110540827237163350510684586298239947245938479716304835356329624224137216\n",
      "1073741824.0\n"
     ]
    },
    {
     "ename": "OverflowError",
     "evalue": "(34, 'Result too large')",
     "output_type": "error",
     "traceback": [
      "\u001b[1;31m---------------------------------------------------------------------------\u001b[0m",
      "\u001b[1;31mOverflowError\u001b[0m                             Traceback (most recent call last)",
      "\u001b[1;32m<ipython-input-82-59ef455cbf04>\u001b[0m in \u001b[0;36m<module>\u001b[1;34m\u001b[0m\n\u001b[0;32m      3\u001b[0m \u001b[0mpi\u001b[0m \u001b[1;33m=\u001b[0m \u001b[1;36m3.141592653589793\u001b[0m\u001b[1;33m\u001b[0m\u001b[1;33m\u001b[0m\u001b[0m\n\u001b[0;32m      4\u001b[0m \u001b[0mprint\u001b[0m\u001b[1;33m(\u001b[0m\u001b[1;36m2.0\u001b[0m\u001b[1;33m**\u001b[0m\u001b[1;36m30\u001b[0m\u001b[1;33m)\u001b[0m\u001b[1;33m\u001b[0m\u001b[1;33m\u001b[0m\u001b[0m\n\u001b[1;32m----> 5\u001b[1;33m \u001b[0mprint\u001b[0m\u001b[1;33m(\u001b[0m\u001b[1;36m2.0\u001b[0m\u001b[1;33m**\u001b[0m\u001b[1;36m1024\u001b[0m\u001b[1;33m)\u001b[0m\u001b[1;33m\u001b[0m\u001b[1;33m\u001b[0m\u001b[0m\n\u001b[0m",
      "\u001b[1;31mOverflowError\u001b[0m: (34, 'Result too large')"
     ]
    }
   ],
   "source": [
    "x = 2**1024\n",
    "print(x)\n",
    "pi = 3.141592653589793\n",
    "print(2.0**30)\n",
    "print(2.0**1024)\n"
   ]
  },
  {
   "cell_type": "code",
   "execution_count": 84,
   "metadata": {},
   "outputs": [
    {
     "name": "stdout",
     "output_type": "stream",
     "text": [
      "1.2676506002282294e+30\n",
      "1267650600228229401496703205376\n",
      "7.888609052210118e-31\n",
      "5e-324\n",
      "True\n",
      "7\n",
      "0\n",
      "0\n"
     ]
    }
   ],
   "source": [
    "print(2.0**100)\n",
    "print(2**100)\n",
    "print(2.0**-100)\n",
    "print(2.0**-1075)\n",
    "print(3 <= 3 < 4)\n",
    "print(2 * 3 + 1)\n",
    "print(2 - 3 + 1)\n",
    "print((2 -3) + 1)"
   ]
  },
  {
   "cell_type": "code",
   "execution_count": 88,
   "metadata": {},
   "outputs": [
    {
     "name": "stdout",
     "output_type": "stream",
     "text": [
      "False\n",
      "True\n",
      "False\n",
      "18\n",
      "True\n"
     ]
    }
   ],
   "source": [
    "#exercise no 2.8\n",
    "#part(a)\n",
    "a = 4\n",
    "print(((2 + 3) == 4) or (a >= 5))\n",
    "#part(b)\n",
    "lst=[1,2,3,4,5,6,7,8,9]\n",
    "print((((lst[1]) * (-3)) < (-10)) == 0)\n",
    "#part(c)\n",
    "lst=[1,2,3,4,5,6,7,8,9]\n",
    "print(((lst[1]) * (-3)) < (-10) in [0, True])\n",
    "#part(d)\n",
    "print((2 * (3**2)))\n",
    "#part (e)\n",
    "print(4 /2 in [1,2,3])"
   ]
  },
  {
   "cell_type": "markdown",
   "metadata": {},
   "source": [
    "# Creating Objects"
   ]
  },
  {
   "cell_type": "code",
   "execution_count": 89,
   "metadata": {},
   "outputs": [
    {
     "name": "stdout",
     "output_type": "stream",
     "text": [
      "3\n",
      "0\n",
      "0.0\n",
      "\n",
      "[]\n"
     ]
    }
   ],
   "source": [
    "x = 3\n",
    "x = int(3)\n",
    "print(x)\n",
    "x = int()\n",
    "print(x)\n",
    "y = float()\n",
    "print(y)\n",
    "s = str()\n",
    "print(s)\n",
    "lst = list()\n",
    "print(lst)"
   ]
  },
  {
   "cell_type": "code",
   "execution_count": 91,
   "metadata": {},
   "outputs": [
    {
     "name": "stdout",
     "output_type": "stream",
     "text": [
      "(a) <class 'int'>\n",
      "(b) <class 'float'>\n",
      "(c) <class 'int'>\n",
      "(d) <class 'bool'>\n"
     ]
    }
   ],
   "source": [
    "#exercise no 2.9\n",
    "#part(a)\n",
    "print(\"(a)\",type(False + False))\n",
    "#part (b)\n",
    "print(\"(b)\",type(2 * (3**2.0)))\n",
    "#part (c)\n",
    "print(\"(c)\",type((4//2) + (4%2)))\n",
    "#part (d)\n",
    "print(\"(d)\",type((2+3==4) or (5 >= 5)))"
   ]
  },
  {
   "cell_type": "markdown",
   "metadata": {},
   "source": [
    "# 2.5 Python Standard Library"
   ]
  },
  {
   "cell_type": "code",
   "execution_count": 92,
   "metadata": {},
   "outputs": [
    {
     "ename": "NameError",
     "evalue": "name 'sqrt' is not defined",
     "output_type": "error",
     "traceback": [
      "\u001b[1;31m---------------------------------------------------------------------------\u001b[0m",
      "\u001b[1;31mNameError\u001b[0m                                 Traceback (most recent call last)",
      "\u001b[1;32m<ipython-input-92-37c12329fb75>\u001b[0m in \u001b[0;36m<module>\u001b[1;34m\u001b[0m\n\u001b[0;32m      1\u001b[0m \u001b[1;32mimport\u001b[0m \u001b[0mmath\u001b[0m\u001b[1;33m\u001b[0m\u001b[1;33m\u001b[0m\u001b[0m\n\u001b[1;32m----> 2\u001b[1;33m \u001b[0msqrt\u001b[0m\u001b[1;33m(\u001b[0m\u001b[1;36m3\u001b[0m\u001b[1;33m)\u001b[0m\u001b[1;33m\u001b[0m\u001b[1;33m\u001b[0m\u001b[0m\n\u001b[0m",
      "\u001b[1;31mNameError\u001b[0m: name 'sqrt' is not defined"
     ]
    }
   ],
   "source": [
    "import math\n",
    "sqrt(3)"
   ]
  },
  {
   "cell_type": "code",
   "execution_count": 93,
   "metadata": {},
   "outputs": [
    {
     "data": {
      "text/plain": [
       "1.7320508075688772"
      ]
     },
     "execution_count": 93,
     "metadata": {},
     "output_type": "execute_result"
    }
   ],
   "source": [
    "math.sqrt(3)"
   ]
  },
  {
   "cell_type": "code",
   "execution_count": 96,
   "metadata": {},
   "outputs": [
    {
     "name": "stdout",
     "output_type": "stream",
     "text": [
      "enter the value of perpendicular:2\n",
      "enter the value of base:3\n"
     ]
    },
    {
     "data": {
      "text/plain": [
       "True"
      ]
     },
     "execution_count": 96,
     "metadata": {},
     "output_type": "execute_result"
    }
   ],
   "source": [
    "#exercise no 2.10\n",
    "from math import sqrt\n",
    "#part (a)\n",
    "a = eval(input(\"enter the value of perpendicular:\"))\n",
    "b = eval(input(\"enter the value of base:\"))\n",
    "perpendicualr = a\n",
    "base = b\n",
    "hypotenuse = sqrt((a**2) + (b**2))\n",
    "#part (b)\n",
    "hypotenuse = sqrt((a**2) + (b**2)) == 5\n",
    "#part (c)\n",
    "from math import pi\n",
    "radius = a\n",
    "area = pi * radius**2\n",
    "#part (d)\n",
    "r = 3\n",
    "x = 1\n",
    "y = 1\n",
    "(x-a)**2 + (y-b)**2 < r**2"
   ]
  },
  {
   "cell_type": "markdown",
   "metadata": {},
   "source": [
    "# Module fractions"
   ]
  },
  {
   "cell_type": "code",
   "execution_count": 100,
   "metadata": {},
   "outputs": [
    {
     "name": "stdout",
     "output_type": "stream",
     "text": [
      "3/4\n",
      "5/4\n",
      "5e-324\n",
      "1/404804506614621236704990693437834614099113299528284236713802716054860679135990693783920767402874248990374155728633623822779617474771586953734026799881477019843034848553132722728933815484186432682479535356945490137124014966849385397236206711298319112681620113024717539104666829230461005064372655017292012526615415482186989568\n"
     ]
    }
   ],
   "source": [
    "import fractions\n",
    "a = fractions.Fraction(3, 4)\n",
    "b = fractions.Fraction(1, 2)\n",
    "print(a)\n",
    "c = a + b\n",
    "print(c)\n",
    "print(0.5**1075)\n",
    "print(fractions.Fraction(1, 2)**1075)"
   ]
  },
  {
   "cell_type": "code",
   "execution_count": 101,
   "metadata": {},
   "outputs": [
    {
     "name": "stdout",
     "output_type": "stream",
     "text": [
      "-28\n",
      "10.651685393258427\n",
      "9.5367431640625e-07\n",
      "The number of times 61 goes into 4356 is:  71\n",
      "The reminder when 4356 is divided by 61:  25\n"
     ]
    }
   ],
   "source": [
    "# exercise 2.11\n",
    "# part a\n",
    "lst = [-7, -6, -5, -4, -3, -2, -1]\n",
    "x = sum(lst)\n",
    "print(x)\n",
    "\n",
    "# part b\n",
    "total_kids = 89\n",
    "average = ((17 * 9) + (24 * 10) + (21 * 11) + (27 * 12)) / total_kids\n",
    "print(average)\n",
    "\n",
    "# part c\n",
    "print(2 ** -20)\n",
    "\n",
    "# part d\n",
    "print(\"The number of times 61 goes into 4356 is: \", 4356 // 61)\n",
    "\n",
    "# part e\n",
    "print(\"The reminder when 4356 is divided by 61: \", 4356 % 61)"
   ]
  },
  {
   "cell_type": "code",
   "execution_count": 102,
   "metadata": {},
   "outputs": [
    {
     "name": "stdout",
     "output_type": "stream",
     "text": [
      "-+\n",
      "-+-\n",
      "+--\n",
      "+--+--\n",
      "+--+--+--+--+--+--+--+--+--+--+--\n",
      "+-+++--+-+++--+-+++--+-+++--+-+++--\n"
     ]
    }
   ],
   "source": [
    "# Exercise 2.12\n",
    "s1 = '-'\n",
    "s2 = '+'\n",
    "# part a\n",
    "print(s1 + s2)\n",
    "# part b\n",
    "print(s1 + s2 + s1)\n",
    "# part c\n",
    "print(s2 + s1 * 2)\n",
    "# part d\n",
    "print(2 * (s2 + (s1 * 2)))\n",
    "# part e\n",
    "print(11 * (s2 + (s1 * 2))) \n",
    "# part f\n",
    "print(5 * (s2 + s1 + (3 * s2) + (2 * s1)))"
   ]
  },
  {
   "cell_type": "code",
   "execution_count": 103,
   "metadata": {},
   "outputs": [
    {
     "name": "stdout",
     "output_type": "stream",
     "text": [
      "a\n",
      "c\n",
      "z\n",
      "y\n",
      "q\n"
     ]
    }
   ],
   "source": [
    "# exercise 2.13\n",
    "s = 'abcdefghijklmnopqrstuvwxyz'\n",
    "print(s[0])\n",
    "print(s[2])\n",
    "print(s[25])\n",
    "print(s[24])\n",
    "print(s[16])"
   ]
  },
  {
   "cell_type": "code",
   "execution_count": 104,
   "metadata": {},
   "outputs": [
    {
     "name": "stdout",
     "output_type": "stream",
     "text": [
      "True\n",
      "False\n",
      "False\n",
      "False\n",
      "True\n",
      "False\n"
     ]
    }
   ],
   "source": [
    "# exercise 2.14\n",
    "s = 'goodbye'\n",
    "# part a\n",
    "print(s[0] == 'g')\n",
    "# part b\n",
    "print(s[6] == 'g')\n",
    "# part c\n",
    "print(s[0] == 'g' and s[1] == 'a')\n",
    "# part d\n",
    "print(s[5] == 'x')\n",
    "# part e\n",
    "x = int(len(s) / 2)\n",
    "print(s[x] == 'd')\n",
    "# part f\n",
    "print(s[0] == s[-1])"
   ]
  },
  {
   "cell_type": "code",
   "execution_count": 105,
   "metadata": {},
   "outputs": [
    {
     "name": "stdout",
     "output_type": "stream",
     "text": [
      "True\n",
      "True\n",
      "True\n",
      "True\n"
     ]
    }
   ],
   "source": [
    "# exercise 2.15\n",
    "# part a\n",
    "x = len(\"anachronistically\")\n",
    "y = len(\"counterintuitive\")\n",
    "z = x == 1 + y\n",
    "print(z)\n",
    "\n",
    "# part b\n",
    "x = \"misinterpretation\"\n",
    "y = \"misrepresentation\"\n",
    "z = x < y\n",
    "print(z)\n",
    "\n",
    "# part c\n",
    "x = \"floccinaucinihilipilification\"\n",
    "y = x.find != \"e\"\n",
    "print(y)\n",
    "\n",
    "# part d\n",
    "x = len(\"counterrevolution\")\n",
    "y = len(\"counter\")\n",
    "z = len(\"resolution\")\n",
    "lengthOfYZ = y + z\n",
    "total = x == lengthOfYZ\n",
    "print(total)"
   ]
  },
  {
   "cell_type": "code",
   "execution_count": 106,
   "metadata": {},
   "outputs": [
    {
     "name": "stdout",
     "output_type": "stream",
     "text": [
      "6.5\n",
      "My fullname is John Fitzgerald Kennedy\n"
     ]
    }
   ],
   "source": [
    "# exercise 2.16\n",
    "# part a\n",
    "a = 6\n",
    "b = 7\n",
    "# part b\n",
    "c = ((a + b) / 2)\n",
    "print(c)\n",
    "# part c\n",
    "inventory = ['paper', 'staples', 'pencils']\n",
    "# part d\n",
    "first = 'John'\n",
    "middle = 'Fitzgerald'\n",
    "last = 'Kennedy'\n",
    "# part e\n",
    "fullname = first + \" \" + middle + \" \" + last\n",
    "print(\"My fullname is \" + fullname)"
   ]
  },
  {
   "cell_type": "code",
   "execution_count": 107,
   "metadata": {},
   "outputs": [
    {
     "name": "stdout",
     "output_type": "stream",
     "text": [
      "True\n",
      "3\n",
      "23\n",
      "False\n",
      "False\n",
      "4\n",
      "10\n",
      "7\n",
      "False\n"
     ]
    }
   ],
   "source": [
    "# exercise 2.17\n",
    "# part a\n",
    "print((17 - 9) < 10)\n",
    "# part b\n",
    "inventory = ['paper', 'staples', 'pencils']\n",
    "x = len(inventory)\n",
    "print(x)\n",
    "fullname = \"John Fitzgerald Kennedy\"\n",
    "y = len(fullname)\n",
    "print(y)\n",
    "print((5 * x) > y)\n",
    "# part c\n",
    "a = 6\n",
    "b = 7\n",
    "c = ((a + b) / 2)\n",
    "print(c > 24)\n",
    "# part d\n",
    "first = 'John'\n",
    "x = len(first)\n",
    "print(x)\n",
    "middle = 'Fitzgerald'\n",
    "y = len(middle)\n",
    "print(y)\n",
    "last = 'Kennedy'\n",
    "z = len(last)\n",
    "print(z)\n",
    "print(y > x and y < z)"
   ]
  },
  {
   "cell_type": "code",
   "execution_count": 108,
   "metadata": {},
   "outputs": [
    {
     "name": "stdout",
     "output_type": "stream",
     "text": [
      "False\n",
      "['rose', 'bougainvillea', 'yucca']\n",
      "['lilly of valley']\n",
      "['rose', 'bougainvillea', 'yucca', 'lilly of valley']\n"
     ]
    }
   ],
   "source": [
    "# exercise 2.18\n",
    "# part a\n",
    "flower = ['rose', 'bougainvillea', 'yucca', 'marigold', 'daylilly', 'lilly of valley']\n",
    "# part b\n",
    "print('potato' in flower)\n",
    "# part c\n",
    "thorny = flower[0:3]\n",
    "print(thorny)\n",
    "# part d\n",
    "poisonous = flower[5:6]\n",
    "print(poisonous)\n",
    "# part e\n",
    "dangerous = thorny + poisonous\n",
    "print(dangerous)"
   ]
  }
 ],
 "metadata": {
  "kernelspec": {
   "display_name": "Python 3",
   "language": "python",
   "name": "python3"
  },
  "language_info": {
   "codemirror_mode": {
    "name": "ipython",
    "version": 3
   },
   "file_extension": ".py",
   "mimetype": "text/x-python",
   "name": "python",
   "nbconvert_exporter": "python",
   "pygments_lexer": "ipython3",
   "version": "3.7.4"
  }
 },
 "nbformat": 4,
 "nbformat_minor": 2
}
